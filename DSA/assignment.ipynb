{
 "cells": [
  {
   "cell_type": "code",
   "execution_count": 25,
   "id": "88185884",
   "metadata": {},
   "outputs": [
    {
     "name": "stdout",
     "output_type": "stream",
     "text": [
      "1 9\n",
      "2 8\n",
      "3 7\n",
      "4 6\n"
     ]
    }
   ],
   "source": [
    "#Q1. Write a program to find all pairs of an integer array whose sum is equal to a given number?\n",
    "list_array=[1,2,3,4,5,6,7,8,9,10,11,12,13,15,18,20]\n",
    "sum=10\n",
    "for i in range (len(list_array)-1):\n",
    "    for k in range(len(list_array)):\n",
    "        if (list_array[i]+list_array[k])==sum and k>i:\n",
    "            print(list_array[i],list_array[k])\n",
    "        else:\n",
    "            continue"
   ]
  },
  {
   "cell_type": "code",
   "execution_count": 38,
   "id": "1df8df6c",
   "metadata": {},
   "outputs": [
    {
     "name": "stdout",
     "output_type": "stream",
     "text": [
      "[1, 2, 3, 4, 5, 6, 7, 8, 9, 10, 11, 12, 13]\n",
      "[13, 12, 11, 10, 9, 8, 7, 6, 5, 4, 3, 2, 1]\n"
     ]
    }
   ],
   "source": [
    "# Q2. Write a program to reverse an array in place? \n",
    "#In place means you cannot create a new array. You have to update the original array.\n",
    "list_array=[1,2,3,4,5,6,7,8,9,10,11,12,13]\n",
    "print(list_array)\n",
    "list_array.reverse()\n",
    "print(list_array)"
   ]
  },
  {
   "cell_type": "code",
   "execution_count": 73,
   "id": "a932cf0a",
   "metadata": {},
   "outputs": [
    {
     "name": "stdout",
     "output_type": "stream",
     "text": [
      "True\n"
     ]
    }
   ],
   "source": [
    "#Q3. Write a program to check if two strings are a rotation of each other?\n",
    "a=\"abc\"\n",
    "b='cba'\n",
    "# print(len(a))\n",
    "d=\"\"\n",
    "for i in reversed(range(len(a))):\n",
    "#     print(a[i])\n",
    "    d=d+a[i]\n",
    "# print(d)\n",
    "if d==b:\n",
    "    print(\"True\")\n",
    "else:\n",
    "    print(\"False\")"
   ]
  },
  {
   "cell_type": "code",
   "execution_count": 23,
   "id": "7dc4532f",
   "metadata": {},
   "outputs": [
    {
     "name": "stdout",
     "output_type": "stream",
     "text": [
      "j\n"
     ]
    }
   ],
   "source": [
    "# Q4. Write a program to print the first non-repeated character from a string?\n",
    "a=\"aabjbccddeff\"\n",
    "d=\"\"\n",
    "for i in range(len(a)-1):\n",
    "#     print(a[i],end=\"\")\n",
    "#     print(a.count(a[i]))\n",
    "    if a.count(a[i])==1:\n",
    "        d=a[i]\n",
    "        break\n",
    "    else:\n",
    "        continue\n",
    "print((d) if d!=\"\" else \"No repeats found\")"
   ]
  },
  {
   "cell_type": "code",
   "execution_count": 24,
   "id": "eb65d38a",
   "metadata": {},
   "outputs": [
    {
     "name": "stdout",
     "output_type": "stream",
     "text": [
      "Hello World\n"
     ]
    }
   ],
   "source": [
    "# Q5. Read about the Tower of Hanoi algorithm. Write a program to implement it.\n",
    "print(\"Hello World\")"
   ]
  },
  {
   "cell_type": "code",
   "execution_count": 25,
   "id": "acb23477",
   "metadata": {},
   "outputs": [
    {
     "name": "stdout",
     "output_type": "stream",
     "text": [
      "hello World\n"
     ]
    }
   ],
   "source": [
    "# Q6. Read about infix, prefix, and postfix expressions. Write a program to convert postfix to prefix expression.\n",
    "print(\"hello World\")"
   ]
  },
  {
   "cell_type": "code",
   "execution_count": 25,
   "id": "4fcef8c4",
   "metadata": {},
   "outputs": [
    {
     "name": "stdout",
     "output_type": "stream",
     "text": [
      "Prefix String : -*++eabcd\n",
      "New Infix String ((((e+a)+b)*c)-d)\n"
     ]
    }
   ],
   "source": [
    "# Q7. Write a program to convert prefix expression to infix expression.\n",
    "class Stack:\n",
    "    def __init__(self):\n",
    "        self.stack = []\n",
    "\n",
    "    def push(self,data):\n",
    "        self.stack.append(data)\n",
    "\n",
    "    def peek(self):\n",
    "        return self.stack[-1]\n",
    "\n",
    "    def pop(self):\n",
    "# check stack is not empty and only then remove the element\n",
    "        if not self.isempty():\n",
    "            data=self.stack[-1]\n",
    "            del self.stack[-1]\n",
    "            return data\n",
    "        else :\n",
    "            return None\n",
    "\n",
    "    def isempty(self):\n",
    "        return self.stack==[]\n",
    "\n",
    "    def view_stack(self):\n",
    "        print(self.stack)\n",
    "        \n",
    "        \n",
    "s=Stack()\n",
    "prefix_str = ('-*++eabcd')\n",
    "print(\"Prefix String :\", prefix_str)\n",
    "\n",
    "for c in reversed(prefix_str):\n",
    "    if c not in ('+','-','*','/','%'):\n",
    "        s.push(c)\n",
    "    else:\n",
    "        str = \"(\" + s.pop() + c + s.pop() + \")\"\n",
    "        s.push(str)\n",
    "#     return s.pop()\n",
    "\n",
    "prefix_to_infix=s.peek()\n",
    "print(\"New Infix String\",prefix_to_infix)\n",
    "\n",
    "\n",
    "\n"
   ]
  },
  {
   "cell_type": "code",
   "execution_count": 7,
   "id": "16fdcbf0",
   "metadata": {},
   "outputs": [
    {
     "name": "stdout",
     "output_type": "stream",
     "text": [
      "abcd( and { an(dnd [()() ]})\n",
      "Code has an error\n"
     ]
    }
   ],
   "source": [
    "# Q8. Write a program to check if all the brackets are closed in a given code snippet.\n",
    "class Stack:\n",
    "    def __init__(self):\n",
    "        self.stack = []\n",
    "\n",
    "    def push(self,data):\n",
    "        self.stack.append(data)\n",
    "\n",
    "    def peek(self):\n",
    "        return self.stack[-1]\n",
    "\n",
    "    def pop(self):\n",
    "# check stack is not empty and only then remove the element\n",
    "        if not self.isempty():\n",
    "            data=self.stack[-1]\n",
    "            del self.stack[-1]\n",
    "            return data\n",
    "        else :\n",
    "            return None\n",
    "\n",
    "    def isempty(self):\n",
    "        return self.stack==[]\n",
    "\n",
    "    def view_stack(self):\n",
    "        print(self.stack)\n",
    "\n",
    "str=\"abcd( and { an(dnd [()() ]})\"\n",
    "# str=\"{a[b(cd}ab]c)}\"\n",
    "print(str)\n",
    "error_flag='N'\n",
    "s=Stack()\n",
    "\n",
    "for i in str:\n",
    "    if i in ('(','[','{'):\n",
    "        s.push(i)\n",
    "    elif (i in (')',']','}') and s.isempty()):\n",
    "        error_flag='Y'\n",
    "#         print(\"Code error\")\n",
    "        break\n",
    "    elif ((i==')' and s.peek()!='(') or (i==']' and s.peek()!='[') or (i=='}' and s.peek()!='{')):\n",
    "        error_flag='Y'\n",
    "#         print(\"Code error\")\n",
    "        break\n",
    "    elif ((i==')' and s.peek()=='(') or (i==']' and s.peek()=='[') or (i=='}' and s.peek()=='{')):\n",
    "        s.pop()\n",
    "    else:\n",
    "        continue\n",
    "\n",
    "if (s.isempty()==False or error_flag=='Y'):\n",
    "    print(\"Code has an error\")\n",
    "else:\n",
    "    print(\"Code is fine\")\n"
   ]
  },
  {
   "cell_type": "code",
   "execution_count": 4,
   "id": "6cc4b47c",
   "metadata": {},
   "outputs": [
    {
     "name": "stdout",
     "output_type": "stream",
     "text": [
      "Created Stack : [9, 7, 3, 5, -1, 8, 2, 4, 1, 10, 14, 11]\n",
      "Reversed Stack : [11, 14, 10, 1, 4, 2, 8, -1, 5, 3, 7, 9]\n"
     ]
    }
   ],
   "source": [
    "# Q9. Write a program to reverse a stack.\n",
    "class Stack:\n",
    "    def __init__(self):\n",
    "        self.stack = []\n",
    "\n",
    "    def push(self,data):\n",
    "        self.stack.append(data)\n",
    "\n",
    "    def peek(self):\n",
    "        return self.stack[-1]\n",
    "\n",
    "    def pop(self):\n",
    "# check stack is not empty and only then remove the element\n",
    "        if not self.isempty():\n",
    "            data=self.stack[-1]\n",
    "            del self.stack[-1]\n",
    "            return data\n",
    "        else :\n",
    "            return None\n",
    "\n",
    "    def isempty(self):\n",
    "        return self.stack==[]\n",
    "\n",
    "    def view_stack(self):\n",
    "        print(self.stack)\n",
    "\n",
    "s=Stack()\n",
    "\n",
    "stack_data_input=[9,7,3,5,-1,8,2,4,1,10,14,11]\n",
    "\n",
    "for i in stack_data_input:\n",
    "    s.push(i)\n",
    "print(\"Created Stack : \",end=\"\")\n",
    "s.view_stack()\n",
    "\n",
    "holding_list=[]\n",
    "while s.isempty() is not True:\n",
    "    holding_list.append(s.pop())\n",
    "\n",
    "for i in holding_list:\n",
    "    s.push(i)\n",
    "\n",
    "print(\"Reversed Stack : \",end=\"\")\n",
    "s.view_stack()\n",
    "\n"
   ]
  },
  {
   "cell_type": "code",
   "execution_count": 10,
   "id": "7a48e220",
   "metadata": {},
   "outputs": [
    {
     "name": "stdout",
     "output_type": "stream",
     "text": [
      "Stack : [20, 9, 7, 3, -10, 5, 8, 2, 4, 1, 10, 14, 11]\n",
      "smallest value in stack : -10\n"
     ]
    }
   ],
   "source": [
    "# Q10. Write a program to find the smallest number using a stack.\n",
    "class Stack:\n",
    "    def __init__(self):\n",
    "        self.stack = []\n",
    "\n",
    "    def push(self,data):\n",
    "        self.stack.append(data)\n",
    "\n",
    "    def peek(self):\n",
    "        return self.stack[-1]\n",
    "\n",
    "    def pop(self):\n",
    "# check stack is not empty and only then remove the element\n",
    "        if not self.isempty():\n",
    "            data=self.stack[-1]\n",
    "            del self.stack[-1]\n",
    "            return data\n",
    "        else :\n",
    "            return None\n",
    "\n",
    "    def isempty(self):\n",
    "        return self.stack==[]\n",
    "\n",
    "    def view_stack(self):\n",
    "        print(self.stack)\n",
    "\n",
    "s=Stack()\n",
    "\n",
    "stack_data_input=[20,9,7,3,-10,5,8,2,4,1,10,14,11]\n",
    "\n",
    "for i in stack_data_input:\n",
    "    s.push(i)\n",
    "print(\"Stack : \",end=\"\")\n",
    "s.view_stack()\n",
    "\n",
    "\n",
    "smallest=s.pop()\n",
    "\n",
    "while s.isempty() is not True:\n",
    "    next_item=s.pop()\n",
    "    if smallest > next_item:\n",
    "        smallest=next_item\n",
    "    else:\n",
    "        continue\n",
    "\n",
    "# s.view_stack()\n",
    "print(\"smallest value in stack :\", smallest)"
   ]
  },
  {
   "cell_type": "code",
   "execution_count": null,
   "id": "3cffd755",
   "metadata": {},
   "outputs": [],
   "source": []
  }
 ],
 "metadata": {
  "kernelspec": {
   "display_name": "Python 3 (ipykernel)",
   "language": "python",
   "name": "python3"
  },
  "language_info": {
   "codemirror_mode": {
    "name": "ipython",
    "version": 3
   },
   "file_extension": ".py",
   "mimetype": "text/x-python",
   "name": "python",
   "nbconvert_exporter": "python",
   "pygments_lexer": "ipython3",
   "version": "3.10.5"
  }
 },
 "nbformat": 4,
 "nbformat_minor": 5
}
