{
 "cells": [
  {
   "cell_type": "markdown",
   "id": "8c6b8660",
   "metadata": {},
   "source": [
    "Cluster similar Houses\n",
    "---------------------------------\n",
    "\n",
    "Again, on the same dataset. Cluster similar houses together. Here is the dataset https://github.com/edyoda/data-science-complete-tutorial/blob/master/Data/house_rental_data.csv.txt\n",
    "\n",
    "- Data cleaning & getting rid of irrelevant information before clustering\n",
    "- Finding the optimal value of k\n",
    "- Storing cluster to which the house belongs along with the data"
   ]
  },
  {
   "cell_type": "code",
   "execution_count": 1,
   "id": "fde35393",
   "metadata": {},
   "outputs": [],
   "source": [
    "import pandas as pd\n",
    "import numpy as np\n",
    "from sklearn import preprocessing\n",
    "from sklearn.preprocessing import MinMaxScaler\n",
    "from sklearn.preprocessing import StandardScaler, normalize\n",
    "from scipy.cluster.hierarchy import dendrogram, linkage\n",
    "from sklearn.cluster import KMeans\n",
    "from scipy.cluster import hierarchy\n",
    "from scipy.spatial.distance import cdist\n",
    "from sklearn.decomposition import PCA\n",
    "from sklearn.cluster import AgglomerativeClustering\n",
    "from sklearn import metrics\n",
    "from sklearn.metrics import silhouette_score\n",
    "import scipy.cluster.hierarchy as shc\n",
    "import matplotlib.pyplot as plt\n",
    "%matplotlib inline\n",
    "#print(\"Hello World\")"
   ]
  },
  {
   "cell_type": "code",
   "execution_count": 2,
   "id": "bfe6aa68",
   "metadata": {},
   "outputs": [],
   "source": [
    "rent_df= pd.read_csv('E:/Namit/Namit/Training/Edyoda/MachineLearning/Assignments/house_rental_data.csv')"
   ]
  },
  {
   "cell_type": "code",
   "execution_count": 3,
   "id": "3e8e9c34",
   "metadata": {},
   "outputs": [
    {
     "data": {
      "text/html": [
       "<div>\n",
       "<style scoped>\n",
       "    .dataframe tbody tr th:only-of-type {\n",
       "        vertical-align: middle;\n",
       "    }\n",
       "\n",
       "    .dataframe tbody tr th {\n",
       "        vertical-align: top;\n",
       "    }\n",
       "\n",
       "    .dataframe thead th {\n",
       "        text-align: right;\n",
       "    }\n",
       "</style>\n",
       "<table border=\"1\" class=\"dataframe\">\n",
       "  <thead>\n",
       "    <tr style=\"text-align: right;\">\n",
       "      <th></th>\n",
       "      <th>Unnamed: 0</th>\n",
       "      <th>Sqft</th>\n",
       "      <th>Floor</th>\n",
       "      <th>TotalFloor</th>\n",
       "      <th>Bedroom</th>\n",
       "      <th>Living.Room</th>\n",
       "      <th>Bathroom</th>\n",
       "      <th>Price</th>\n",
       "    </tr>\n",
       "  </thead>\n",
       "  <tbody>\n",
       "    <tr>\n",
       "      <th>0</th>\n",
       "      <td>1</td>\n",
       "      <td>1177.698</td>\n",
       "      <td>2</td>\n",
       "      <td>7</td>\n",
       "      <td>2</td>\n",
       "      <td>2</td>\n",
       "      <td>2</td>\n",
       "      <td>62000</td>\n",
       "    </tr>\n",
       "    <tr>\n",
       "      <th>1</th>\n",
       "      <td>2</td>\n",
       "      <td>2134.800</td>\n",
       "      <td>5</td>\n",
       "      <td>7</td>\n",
       "      <td>4</td>\n",
       "      <td>2</td>\n",
       "      <td>2</td>\n",
       "      <td>78000</td>\n",
       "    </tr>\n",
       "    <tr>\n",
       "      <th>2</th>\n",
       "      <td>3</td>\n",
       "      <td>1138.560</td>\n",
       "      <td>5</td>\n",
       "      <td>7</td>\n",
       "      <td>2</td>\n",
       "      <td>2</td>\n",
       "      <td>1</td>\n",
       "      <td>58000</td>\n",
       "    </tr>\n",
       "    <tr>\n",
       "      <th>3</th>\n",
       "      <td>4</td>\n",
       "      <td>1458.780</td>\n",
       "      <td>2</td>\n",
       "      <td>7</td>\n",
       "      <td>3</td>\n",
       "      <td>2</td>\n",
       "      <td>2</td>\n",
       "      <td>45000</td>\n",
       "    </tr>\n",
       "    <tr>\n",
       "      <th>4</th>\n",
       "      <td>5</td>\n",
       "      <td>967.776</td>\n",
       "      <td>11</td>\n",
       "      <td>14</td>\n",
       "      <td>3</td>\n",
       "      <td>2</td>\n",
       "      <td>2</td>\n",
       "      <td>45000</td>\n",
       "    </tr>\n",
       "  </tbody>\n",
       "</table>\n",
       "</div>"
      ],
      "text/plain": [
       "   Unnamed: 0      Sqft  Floor  TotalFloor  Bedroom  Living.Room  Bathroom  \\\n",
       "0           1  1177.698      2           7        2            2         2   \n",
       "1           2  2134.800      5           7        4            2         2   \n",
       "2           3  1138.560      5           7        2            2         1   \n",
       "3           4  1458.780      2           7        3            2         2   \n",
       "4           5   967.776     11          14        3            2         2   \n",
       "\n",
       "   Price  \n",
       "0  62000  \n",
       "1  78000  \n",
       "2  58000  \n",
       "3  45000  \n",
       "4  45000  "
      ]
     },
     "execution_count": 3,
     "metadata": {},
     "output_type": "execute_result"
    }
   ],
   "source": [
    "rent_df.head(5)"
   ]
  },
  {
   "cell_type": "code",
   "execution_count": 4,
   "id": "a332a6a3",
   "metadata": {},
   "outputs": [],
   "source": [
    "mms = MinMaxScaler()\n",
    "rent_df[['Sqft_scal','Floor_scal']] = mms.fit_transform(rent_df[['Sqft', 'Floor']])"
   ]
  },
  {
   "cell_type": "code",
   "execution_count": 5,
   "id": "6dc6c1fe",
   "metadata": {},
   "outputs": [
    {
     "data": {
      "text/html": [
       "<div>\n",
       "<style scoped>\n",
       "    .dataframe tbody tr th:only-of-type {\n",
       "        vertical-align: middle;\n",
       "    }\n",
       "\n",
       "    .dataframe tbody tr th {\n",
       "        vertical-align: top;\n",
       "    }\n",
       "\n",
       "    .dataframe thead th {\n",
       "        text-align: right;\n",
       "    }\n",
       "</style>\n",
       "<table border=\"1\" class=\"dataframe\">\n",
       "  <thead>\n",
       "    <tr style=\"text-align: right;\">\n",
       "      <th></th>\n",
       "      <th>Unnamed: 0</th>\n",
       "      <th>Sqft</th>\n",
       "      <th>Floor</th>\n",
       "      <th>TotalFloor</th>\n",
       "      <th>Bedroom</th>\n",
       "      <th>Living.Room</th>\n",
       "      <th>Bathroom</th>\n",
       "      <th>Price</th>\n",
       "      <th>Sqft_scal</th>\n",
       "      <th>Floor_scal</th>\n",
       "    </tr>\n",
       "  </thead>\n",
       "  <tbody>\n",
       "    <tr>\n",
       "      <th>0</th>\n",
       "      <td>1</td>\n",
       "      <td>1177.698</td>\n",
       "      <td>2</td>\n",
       "      <td>7</td>\n",
       "      <td>2</td>\n",
       "      <td>2</td>\n",
       "      <td>2</td>\n",
       "      <td>62000</td>\n",
       "      <td>0.148867</td>\n",
       "      <td>0.047619</td>\n",
       "    </tr>\n",
       "    <tr>\n",
       "      <th>1</th>\n",
       "      <td>2</td>\n",
       "      <td>2134.800</td>\n",
       "      <td>5</td>\n",
       "      <td>7</td>\n",
       "      <td>4</td>\n",
       "      <td>2</td>\n",
       "      <td>2</td>\n",
       "      <td>78000</td>\n",
       "      <td>0.322977</td>\n",
       "      <td>0.190476</td>\n",
       "    </tr>\n",
       "    <tr>\n",
       "      <th>2</th>\n",
       "      <td>3</td>\n",
       "      <td>1138.560</td>\n",
       "      <td>5</td>\n",
       "      <td>7</td>\n",
       "      <td>2</td>\n",
       "      <td>2</td>\n",
       "      <td>1</td>\n",
       "      <td>58000</td>\n",
       "      <td>0.141748</td>\n",
       "      <td>0.190476</td>\n",
       "    </tr>\n",
       "    <tr>\n",
       "      <th>3</th>\n",
       "      <td>4</td>\n",
       "      <td>1458.780</td>\n",
       "      <td>2</td>\n",
       "      <td>7</td>\n",
       "      <td>3</td>\n",
       "      <td>2</td>\n",
       "      <td>2</td>\n",
       "      <td>45000</td>\n",
       "      <td>0.200000</td>\n",
       "      <td>0.047619</td>\n",
       "    </tr>\n",
       "    <tr>\n",
       "      <th>4</th>\n",
       "      <td>5</td>\n",
       "      <td>967.776</td>\n",
       "      <td>11</td>\n",
       "      <td>14</td>\n",
       "      <td>3</td>\n",
       "      <td>2</td>\n",
       "      <td>2</td>\n",
       "      <td>45000</td>\n",
       "      <td>0.110680</td>\n",
       "      <td>0.476190</td>\n",
       "    </tr>\n",
       "  </tbody>\n",
       "</table>\n",
       "</div>"
      ],
      "text/plain": [
       "   Unnamed: 0      Sqft  Floor  TotalFloor  Bedroom  Living.Room  Bathroom  \\\n",
       "0           1  1177.698      2           7        2            2         2   \n",
       "1           2  2134.800      5           7        4            2         2   \n",
       "2           3  1138.560      5           7        2            2         1   \n",
       "3           4  1458.780      2           7        3            2         2   \n",
       "4           5   967.776     11          14        3            2         2   \n",
       "\n",
       "   Price  Sqft_scal  Floor_scal  \n",
       "0  62000   0.148867    0.047619  \n",
       "1  78000   0.322977    0.190476  \n",
       "2  58000   0.141748    0.190476  \n",
       "3  45000   0.200000    0.047619  \n",
       "4  45000   0.110680    0.476190  "
      ]
     },
     "execution_count": 5,
     "metadata": {},
     "output_type": "execute_result"
    }
   ],
   "source": [
    "rent_df.head(5)"
   ]
  },
  {
   "cell_type": "code",
   "execution_count": 6,
   "id": "8bf63b4b",
   "metadata": {},
   "outputs": [],
   "source": [
    "# Optimum number of clusters using elbow method -\n",
    "\n",
    "distortions = []\n",
    "inertias = []\n",
    "mapping1 = {}\n",
    "mapping2 = {}\n",
    "K = range(1, 15)"
   ]
  },
  {
   "cell_type": "code",
   "execution_count": 7,
   "id": "7b3986e2",
   "metadata": {},
   "outputs": [
    {
     "name": "stderr",
     "output_type": "stream",
     "text": [
      "C:\\Users\\NAMIT\\anaconda3\\lib\\site-packages\\sklearn\\cluster\\_kmeans.py:1036: UserWarning: KMeans is known to have a memory leak on Windows with MKL, when there are less chunks than available threads. You can avoid it by setting the environment variable OMP_NUM_THREADS=3.\n",
      "  warnings.warn(\n",
      "C:\\Users\\NAMIT\\anaconda3\\lib\\site-packages\\sklearn\\cluster\\_kmeans.py:1036: UserWarning: KMeans is known to have a memory leak on Windows with MKL, when there are less chunks than available threads. You can avoid it by setting the environment variable OMP_NUM_THREADS=3.\n",
      "  warnings.warn(\n"
     ]
    }
   ],
   "source": [
    "# Making a separate array file \n",
    "\n",
    "array1 = rent_df['Sqft_scal'].to_numpy()\n",
    "array2 = rent_df['Floor_scal'].to_numpy()\n",
    "array = np.array(list(zip(array1, array2))).reshape(len(array1), 2)\n",
    "\n",
    "for k in K:\n",
    "    # Building and fitting the model\n",
    "    kmeanModel = KMeans(n_clusters=k).fit(array)\n",
    "    kmeanModel.fit(array)\n",
    "\n",
    "    distortions.append(sum(np.min(cdist(array, kmeanModel.cluster_centers_,\n",
    "                                        'euclidean'), axis=1)) / array.shape[0])\n",
    "    inertias.append(kmeanModel.inertia_)\n",
    "\n",
    "    mapping1[k] = sum(np.min(cdist(array, kmeanModel.cluster_centers_,\n",
    "                                   'euclidean'), axis=1)) / array.shape[0]\n",
    "    mapping2[k] = kmeanModel.inertia_"
   ]
  },
  {
   "cell_type": "code",
   "execution_count": 8,
   "id": "78f717c7",
   "metadata": {},
   "outputs": [
    {
     "name": "stdout",
     "output_type": "stream",
     "text": [
      "1 : 0.19235486945699923\n",
      "2 : 0.14855669445894706\n",
      "3 : 0.12714816424111544\n",
      "4 : 0.11334917105795632\n",
      "5 : 0.09910827637507942\n",
      "6 : 0.09195027213711217\n",
      "7 : 0.08441016821057795\n",
      "8 : 0.07787183727154857\n",
      "9 : 0.07698927738657006\n",
      "10 : 0.07083499302337833\n",
      "11 : 0.06748860981370233\n",
      "12 : 0.06317386298956668\n",
      "13 : 0.06138142330333889\n",
      "14 : 0.05959743418713565\n"
     ]
    },
    {
     "data": {
      "image/png": "[encoded data removed]",
      "text/plain": [
       "<Figure size 640x480 with 1 Axes>"
      ]
     },
     "metadata": {},
     "output_type": "display_data"
    }
   ],
   "source": [
    "# Using Distortion -\n",
    "# Tabulating the results -\n",
    "\n",
    "for key,val in mapping1.items():\n",
    "    print(str(key)+' : '+str(val))\n",
    "\n",
    "# Visualizing the result -\n",
    "\n",
    "plt.plot(K, distortions, 'bx-')\n",
    "plt.xlabel('Values of K')\n",
    "plt.ylabel('Distortion')\n",
    "plt.title('The Elbow Method using Distortion')\n",
    "plt.show()"
   ]
  },
  {
   "cell_type": "code",
   "execution_count": 9,
   "id": "23265cd4",
   "metadata": {},
   "outputs": [
    {
     "name": "stdout",
     "output_type": "stream",
     "text": [
      "1 : 34.587783783122276\n",
      "2 : 19.948311971400567\n",
      "3 : 14.836481411646457\n",
      "4 : 10.74758340784108\n",
      "5 : 8.80824460134146\n",
      "6 : 7.377041234040231\n",
      "7 : 6.243463330663993\n",
      "8 : 5.502937217009151\n",
      "9 : 5.047242482147546\n",
      "10 : 4.472425498634935\n",
      "11 : 3.9841660043265987\n",
      "12 : 3.5474683219208343\n",
      "13 : 3.199611962345787\n",
      "14 : 2.9674482611449893\n"
     ]
    },
    {
     "data": {
      "image/png": "[encoded data removed]",
      "text/plain": [
       "<Figure size 640x480 with 1 Axes>"
      ]
     },
     "metadata": {},
     "output_type": "display_data"
    }
   ],
   "source": [
    "# Using Inertias -\n",
    "# Tabulating the results -\n",
    "\n",
    "for key,val in mapping2.items():\n",
    "    print(str(key)+' : '+str(val))\n",
    "\n",
    "# Visualizing the result -\n",
    "\n",
    "plt.plot(K, inertias, 'bx-')\n",
    "plt.xlabel('Values of K')\n",
    "plt.ylabel('Inertia')\n",
    "plt.title('The Elbow Method using Inertia')\n",
    "plt.show()"
   ]
  },
  {
   "cell_type": "code",
   "execution_count": 10,
   "id": "9dad2982",
   "metadata": {},
   "outputs": [
    {
     "name": "stdout",
     "output_type": "stream",
     "text": [
      "[[0.24820712 0.05666667]\n",
      " [0.10463862 0.29611385]\n",
      " [0.41655879 0.80952381]\n",
      " [0.10236067 0.11656442]\n",
      " [0.54953306 0.16326531]\n",
      " [0.26697512 0.20684524]\n",
      " [0.29306817 0.43394777]\n",
      " [0.10648656 0.49482402]]\n"
     ]
    },
    {
     "data": {
      "image/png": "[encoded data removed]",
      "text/plain": [
       "<Figure size 640x480 with 1 Axes>"
      ]
     },
     "metadata": {},
     "output_type": "display_data"
    }
   ],
   "source": [
    "# From the visualisation using both method the optimum number of clusters is 8  \n",
    "# Finding Centroids with 8 clusters -\n",
    "data = pd.DataFrame(array, columns=('Sqft_scal', 'Floor_scal'))\n",
    "data.head()\n",
    "\n",
    "kmeans = KMeans(n_clusters=8).fit(data)\n",
    "centroids = kmeans.cluster_centers_\n",
    "print(centroids)\n",
    "\n",
    "plt.scatter(data['Sqft_scal'], data['Floor_scal'], c= kmeans.labels_.astype(float))\n",
    "plt.scatter(centroids[:, 0], centroids[:, 1], c='red')\n",
    "plt.show()"
   ]
  },
  {
   "cell_type": "code",
   "execution_count": 11,
   "id": "ef40ca8e",
   "metadata": {},
   "outputs": [
    {
     "name": "stdout",
     "output_type": "stream",
     "text": [
      "[[0.24820712 0.05666667]\n",
      " [0.10463862 0.29611385]\n",
      " [0.41655879 0.80952381]\n",
      " [0.10236067 0.11656442]\n",
      " [0.54953306 0.16326531]\n",
      " [0.26697512 0.20684524]\n",
      " [0.29306817 0.43394777]\n",
      " [0.10648656 0.49482402]]\n"
     ]
    }
   ],
   "source": [
    "print(centroids)"
   ]
  },
  {
   "cell_type": "code",
   "execution_count": 12,
   "id": "657dc2ad",
   "metadata": {},
   "outputs": [
    {
     "name": "stdout",
     "output_type": "stream",
     "text": [
      "[3 5 3 0 7 7 5 3 7 3 3 3 1 3 6 4 3 3 4 3 2 4 1 5 2 6 2 2 3 1 6 7 6 1 3 3 3\n",
      " 3 2 1 2 7 3 0 5 5 0 0 2 3 5 0 3 3 4 0 3 7 3 0 1 3 5 3 3 3 3 3 1 1 1 1 0 3\n",
      " 3 0 5 5 5 3 5 1 1 3 3 0 4 5 0 5 5 5 0 5 5 5 5 0 6 5 0 0 4 4 4 0 6 1 5 5 5\n",
      " 1 0 6 1 5 4 1 7 3 7 7 0 5 6 1 1 5 1 1 5 0 2 1 5 5 1 0 0 7 2 1 1 3 3 7 5 4\n",
      " 1 0 6 5 0 7 7 3 7 0 1 0 0 7 3 4 3 6 0 5 5 7 5 6 5 6 3 2 0 0 0 5 5 3 4 3 3\n",
      " 5 3 3 3 0 3 3 6 6 0 6 6 7 3 0 7 6 0 3 5 0 7 3 1 0 7 3 5 3 3 0 5 6 3 6 1 6\n",
      " 4 7 5 1 3 3 5 6 0 5 5 0 5 3 5 5 1 0 1 6 4 2 6 3 4 7 4 5 5 6 6 6 5 3 3 0 4\n",
      " 0 7 1 0 5 3 3 1 3 3 1 3 5 1 1 3 5 3 5 5 3 7 5 5 7 0 6 2 6 7 5 0 1 6 3 5 6\n",
      " 4 4 2 4 0 6 5 5 6 0 5 5 3 3 5 0 0 0 5 6 5 5 6 5 1 7 4 5 7 0 5 2 3 7 0 0 3\n",
      " 4 5 3 0 1 3 0 1 3 6 0 3 3 1 0 3 3 5 3 6 5 7 0 5 0 5 0 0 0 3 1 3 2 5 6 1 3\n",
      " 3 1 1 5 5 3 1 0 3 5 6 0 5 1 0 5 0 1 5 3 3 4 5 7 7 6 5 3 5 3 3 0 5 3 3 3 3\n",
      " 1 3 1 3 3 3 0 1 1 5 6 3 1 7 0 3 2 0 5 5 4 3 3 2 2 3 3 4 4 1 3 0 0 3 0 5 7\n",
      " 4 6 5 0 0 3 3 3 3 0 1 0 5 6 5 1 5 1 0 5 3 5 3 6 1 2 0 0 6 3 5 6 3 0 1 5 0\n",
      " 5 6 3 5 3 1 3 6 3 1 0 4 5 6 1 5 7 6 1 3 6 3 5 1 3 5 6 3 1 6 5 3 3 2 5 3 5\n",
      " 3 3 1 1 0 3 0 3 1 5 7 4 3 3 5 5 3 5 5 0 1 7 2 3 3 1 5 3 0 6 0 5 0 0 0 0 7\n",
      " 4 5 3 7 3 7 0 3 3 6 6 0 6 1 1 0 7 4 1 3 1 3 0 4 3 5 3 3 3 5 4 3 1 3 6 7 5\n",
      " 3 1 1 5 1 5 7 2 3 5 5 3 5 1 1 1 1 3 0 6 3 3 1 0 1 3 6 3 3 2 4 5 6 0 7 5 1\n",
      " 7 3 3 3 5 3 2 1 6 6 4 1 3 7 0 5]\n"
     ]
    }
   ],
   "source": [
    "print(kmeans.labels_)"
   ]
  },
  {
   "cell_type": "code",
   "execution_count": 13,
   "id": "f9c5d06b",
   "metadata": {},
   "outputs": [],
   "source": [
    "cluster_df=pd.DataFrame(kmeans.labels_)"
   ]
  },
  {
   "cell_type": "code",
   "execution_count": 14,
   "id": "b7560ff5",
   "metadata": {},
   "outputs": [],
   "source": [
    "cluster_df.rename(columns={0:'cluster'},inplace=True)"
   ]
  },
  {
   "cell_type": "code",
   "execution_count": 15,
   "id": "b27785c2",
   "metadata": {},
   "outputs": [],
   "source": [
    "# Storing cluster to which the house belongs along with the data\n",
    "rent_df=pd.concat([rent_df,cluster_df['cluster']],axis ='columns')"
   ]
  },
  {
   "cell_type": "code",
   "execution_count": 16,
   "id": "36bc279d",
   "metadata": {},
   "outputs": [
    {
     "data": {
      "text/html": [
       "<div>\n",
       "<style scoped>\n",
       "    .dataframe tbody tr th:only-of-type {\n",
       "        vertical-align: middle;\n",
       "    }\n",
       "\n",
       "    .dataframe tbody tr th {\n",
       "        vertical-align: top;\n",
       "    }\n",
       "\n",
       "    .dataframe thead th {\n",
       "        text-align: right;\n",
       "    }\n",
       "</style>\n",
       "<table border=\"1\" class=\"dataframe\">\n",
       "  <thead>\n",
       "    <tr style=\"text-align: right;\">\n",
       "      <th></th>\n",
       "      <th>Unnamed: 0</th>\n",
       "      <th>Sqft</th>\n",
       "      <th>Floor</th>\n",
       "      <th>TotalFloor</th>\n",
       "      <th>Bedroom</th>\n",
       "      <th>Living.Room</th>\n",
       "      <th>Bathroom</th>\n",
       "      <th>Price</th>\n",
       "      <th>Sqft_scal</th>\n",
       "      <th>Floor_scal</th>\n",
       "      <th>cluster</th>\n",
       "    </tr>\n",
       "  </thead>\n",
       "  <tbody>\n",
       "    <tr>\n",
       "      <th>0</th>\n",
       "      <td>1</td>\n",
       "      <td>1177.698</td>\n",
       "      <td>2</td>\n",
       "      <td>7</td>\n",
       "      <td>2</td>\n",
       "      <td>2</td>\n",
       "      <td>2</td>\n",
       "      <td>62000</td>\n",
       "      <td>0.148867</td>\n",
       "      <td>0.047619</td>\n",
       "      <td>3</td>\n",
       "    </tr>\n",
       "    <tr>\n",
       "      <th>1</th>\n",
       "      <td>2</td>\n",
       "      <td>2134.800</td>\n",
       "      <td>5</td>\n",
       "      <td>7</td>\n",
       "      <td>4</td>\n",
       "      <td>2</td>\n",
       "      <td>2</td>\n",
       "      <td>78000</td>\n",
       "      <td>0.322977</td>\n",
       "      <td>0.190476</td>\n",
       "      <td>5</td>\n",
       "    </tr>\n",
       "    <tr>\n",
       "      <th>2</th>\n",
       "      <td>3</td>\n",
       "      <td>1138.560</td>\n",
       "      <td>5</td>\n",
       "      <td>7</td>\n",
       "      <td>2</td>\n",
       "      <td>2</td>\n",
       "      <td>1</td>\n",
       "      <td>58000</td>\n",
       "      <td>0.141748</td>\n",
       "      <td>0.190476</td>\n",
       "      <td>3</td>\n",
       "    </tr>\n",
       "    <tr>\n",
       "      <th>3</th>\n",
       "      <td>4</td>\n",
       "      <td>1458.780</td>\n",
       "      <td>2</td>\n",
       "      <td>7</td>\n",
       "      <td>3</td>\n",
       "      <td>2</td>\n",
       "      <td>2</td>\n",
       "      <td>45000</td>\n",
       "      <td>0.200000</td>\n",
       "      <td>0.047619</td>\n",
       "      <td>0</td>\n",
       "    </tr>\n",
       "    <tr>\n",
       "      <th>4</th>\n",
       "      <td>5</td>\n",
       "      <td>967.776</td>\n",
       "      <td>11</td>\n",
       "      <td>14</td>\n",
       "      <td>3</td>\n",
       "      <td>2</td>\n",
       "      <td>2</td>\n",
       "      <td>45000</td>\n",
       "      <td>0.110680</td>\n",
       "      <td>0.476190</td>\n",
       "      <td>7</td>\n",
       "    </tr>\n",
       "  </tbody>\n",
       "</table>\n",
       "</div>"
      ],
      "text/plain": [
       "   Unnamed: 0      Sqft  Floor  TotalFloor  Bedroom  Living.Room  Bathroom  \\\n",
       "0           1  1177.698      2           7        2            2         2   \n",
       "1           2  2134.800      5           7        4            2         2   \n",
       "2           3  1138.560      5           7        2            2         1   \n",
       "3           4  1458.780      2           7        3            2         2   \n",
       "4           5   967.776     11          14        3            2         2   \n",
       "\n",
       "   Price  Sqft_scal  Floor_scal  cluster  \n",
       "0  62000   0.148867    0.047619        3  \n",
       "1  78000   0.322977    0.190476        5  \n",
       "2  58000   0.141748    0.190476        3  \n",
       "3  45000   0.200000    0.047619        0  \n",
       "4  45000   0.110680    0.476190        7  "
      ]
     },
     "execution_count": 16,
     "metadata": {},
     "output_type": "execute_result"
    }
   ],
   "source": [
    "rent_df.head(5)"
   ]
  },
  {
   "cell_type": "code",
   "execution_count": 17,
   "id": "c385b88c",
   "metadata": {},
   "outputs": [
    {
     "data": {
      "text/plain": [
       "3    163\n",
       "5    128\n",
       "0    100\n",
       "1     87\n",
       "6     62\n",
       "7     46\n",
       "4     35\n",
       "2     24\n",
       "Name: cluster, dtype: int64"
      ]
     },
     "execution_count": 17,
     "metadata": {},
     "output_type": "execute_result"
    }
   ],
   "source": [
    "rent_df['cluster'].value_counts()"
   ]
  },
  {
   "cell_type": "code",
   "execution_count": null,
   "id": "d1c8518b",
   "metadata": {},
   "outputs": [],
   "source": []
  }
 ],
 "metadata": {
  "kernelspec": {
   "display_name": "Python 3 (ipykernel)",
   "language": "python",
   "name": "python3"
  },
  "language_info": {
   "codemirror_mode": {
    "name": "ipython",
    "version": 3
   },
   "file_extension": ".py",
   "mimetype": "text/x-python",
   "name": "python",
   "nbconvert_exporter": "python",
   "pygments_lexer": "ipython3",
   "version": "3.9.13"
  }
 },
 "nbformat": 4,
 "nbformat_minor": 5
}
